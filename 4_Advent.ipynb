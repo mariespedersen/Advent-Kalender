{
 "cells": [
  {
   "cell_type": "markdown",
   "metadata": {},
   "source": [
    "# Adventskalender - 4. Advent\n",
    "\n",
    "Velkommen til sidste kapitel af juleeventyret \"Nissen Mynte og den forsvundet gavepose\"\n",
    "\n",
    "\n",
    "Nissen Mynte har mistet sin julesæk! <br>\n",
    "<img src=\"Billeder\\Picture1.jfif\" alt=\"description\" width=\"300\" height=\"300\"> <br>\n",
    "\n",
    "Mynte har løst gåder og klaret udfordringer i skoven og landsbyen. Nu står hun foran nissernes store lager, hvor alle deres ting bliver opbevaret. Men noget er galt – hendes gavepose med julegaver til børnene er blevet væk blandt de mange andre poser!<br>\n",
    "<img src=\"Billeder\\Picture12.jpeg\" alt=\"description\" width=\"300\" height=\"300\"> <br>\n",
    "\n",
    "Nisserne på lageret forklarer, at hver pose er registreret i deres magiske database. Posenes data inkluderer egenskaber som vægt, størrelse og farve. Mynte kan ikke huske præcis, hvordan posen ser ud, men ved at undersøge data, kan hun måske bliver klogere.\n",
    "\n",
    "For at finde sin gavepose skal Mynte analysere dataene, finde mønstre og måske filtrere nogle forkerte poser væk – og til sidst plotte dataene for at få øje på den pose, der matcher alle kriterierne."
   ]
  },
  {
   "cell_type": "code",
   "execution_count": null,
   "metadata": {},
   "outputs": [],
   "source": [
    "# Start med at indlæse nødvendige pakker og variabler:\n",
    "%run CheatSheet.py"
   ]
  },
  {
   "cell_type": "markdown",
   "metadata": {},
   "source": [
    "Start med at indlæse nisserens magiske database med poser "
   ]
  },
  {
   "cell_type": "code",
   "execution_count": null,
   "metadata": {},
   "outputs": [],
   "source": [
    "df.head() # Indlæs data (data er defineret i CheatSheet.py)"
   ]
  },
  {
   "cell_type": "markdown",
   "metadata": {},
   "source": [
    "Beskriv de forskellige variabler og plot et scatter plot posernes placering. "
   ]
  },
  {
   "cell_type": "code",
   "execution_count": null,
   "metadata": {},
   "outputs": [],
   "source": [
    "# plot poser i et scatter plot\n",
    "..."
   ]
  },
  {
   "cell_type": "markdown",
   "metadata": {},
   "source": [
    "### Find farven\n",
    "Mynte husker at hendes pose er rød!\n",
    "\n",
    "Tæl hvor mange poser der findes af hver farve i lagret?"
   ]
  },
  {
   "cell_type": "code",
   "execution_count": null,
   "metadata": {},
   "outputs": [],
   "source": [
    "# Tæl farverne i lagret\n",
    "farve_fordeling = ...\n",
    "print(\"\\nFarvefordeling blandt poserne:\")\n",
    "print(farve_fordeling)"
   ]
  },
  {
   "cell_type": "code",
   "execution_count": null,
   "metadata": {},
   "outputs": [],
   "source": [
    "Antal_røde = ... # Angiv hvor mange røde poser der findes\n",
    "if Antal_røde == Røde_poser:\n",
    "    print(\"Korrekt, der finde\", Røde_poser, \"røde juleposer\")"
   ]
  },
  {
   "cell_type": "markdown",
   "metadata": {},
   "source": [
    "Vend tilbage til dit scatter plot du lavede. Prøv at farv alle prikkerne efter deres respektive farve."
   ]
  },
  {
   "cell_type": "code",
   "execution_count": null,
   "metadata": {},
   "outputs": [],
   "source": [
    "# Scatter plot med farver\n",
    "..."
   ]
  },
  {
   "cell_type": "markdown",
   "metadata": {},
   "source": [
    "Næste trin bliver at filtrere dataene, så kun de røde poser bliver tilbage"
   ]
  },
  {
   "cell_type": "code",
   "execution_count": null,
   "metadata": {},
   "outputs": [],
   "source": [
    "# Filtrér kun de røde poser\n",
    "roede_poser  = ..."
   ]
  },
  {
   "cell_type": "markdown",
   "metadata": {},
   "source": [
    "### Find størrelsen\n",
    "Mynte har fundet de røde poser. Men der er stadig mange poser tilbage! Der er ingen klar beskrivelse af størrelserne i databasen. For at finde ud af, hvilken pose der er hendes, skal du hjælpe Mynte med at visualisere og analysere størrelserne.\n",
    "\n",
    "**Ledetråd:** Mynte mindes at hendes julepose tilhørte den kategori med færrest juleposer.  \n",
    "\n",
    "Lav et bar chart som viser antal poser i hver størrelses kategori. "
   ]
  },
  {
   "cell_type": "code",
   "execution_count": null,
   "metadata": {},
   "outputs": [],
   "source": [
    "..."
   ]
  },
  {
   "cell_type": "code",
   "execution_count": null,
   "metadata": {},
   "outputs": [],
   "source": [
    "# Skriv hvilken størrelse du tror nissen Myntes julepose er? \n",
    "størrelse = ...\n",
    "if størrelse.lower() == Rigtig_størrelse.lower():\n",
    "    print(\"Korrekt, Myntes pose er\", Rigtig_størrelse.lower())\n",
    "else:\n",
    "    print(\"Det er desværre ikke rigtig. Prøv igen\")"
   ]
  },
  {
   "cell_type": "code",
   "execution_count": null,
   "metadata": {},
   "outputs": [],
   "source": [
    "# Filtrér kun de store juleposer\n",
    "df_poser  = ..."
   ]
  },
  {
   "cell_type": "markdown",
   "metadata": {},
   "source": [
    "Hvor mange mulige poser kan være Myntes?"
   ]
  },
  {
   "cell_type": "code",
   "execution_count": null,
   "metadata": {},
   "outputs": [],
   "source": [
    "..."
   ]
  },
  {
   "cell_type": "markdown",
   "metadata": {},
   "source": [
    "### Find vægten\n",
    "Mynte’s gavepose har en usædvanlig høj vægt, som skiller sig ud fra de fleste andre poser, der er lettere.\n",
    "Prøv igen at lav et scatter plot over lager koordinatorne. \n",
    "\n",
    "*Hint:* Prøv at ændre størrelsen på posen efter \"Vægt\" kolonnen. Er der én pose som skiller sig ud?\n"
   ]
  },
  {
   "cell_type": "code",
   "execution_count": null,
   "metadata": {},
   "outputs": [],
   "source": [
    "..."
   ]
  },
  {
   "cell_type": "markdown",
   "metadata": {},
   "source": [
    "Angiv vægtens på Myntes pose  "
   ]
  },
  {
   "cell_type": "code",
   "execution_count": null,
   "metadata": {},
   "outputs": [],
   "source": [
    "Vægt = ... # Skriv dit svar her\n",
    "\n",
    "if Vægt == Rigtig_vægt:\n",
    "    print(\"Korrekt, Myntes pose vejer\", Rigtig_vægt, \"kg\")\n",
    "else:\n",
    "    print(\"Det er desværre ikke korrekt. Prøv igen\")"
   ]
  },
  {
   "cell_type": "markdown",
   "metadata": {},
   "source": [
    "## Fantastisk! Du har fundet Mynte's gavepose! 🎉\n",
    "\n",
    "Mynte er så glad, for nu er hun klar til at levere gaverne til alle børn.  \n",
    "Du har hjulpet Mynte med at løse udfordringerne i skovens labyrint, finde de rigtige stjerner, og finde den tunge gavepose med præcision.\n",
    "\n",
    "Mynte vil nu tage på sin sidste rejse og bringe gaverne til de glade børn, og hun er taknemmelig for al din hjælp.\n",
    "\n",
    "---\n",
    "\n",
    "**Tak fordi du har været med på denne eventyrlige julekalender med data science, machine learning og sjove opgaver!**  \n",
    "Mynte ønsker dig en rigtig glædelig jul, fyldt med kærlighed, læring og magiske øjeblikke!\n",
    "\n",
    "Nu er det tid til at pakke dine egne gaver op og dele glæden med dem, du holder af! 🎁✨ <br>\n",
    "<img src=\"Billeder\\Picture1.jfif\" alt=\"description\" width=\"300\" height=\"300\"> <br>"
   ]
  }
 ],
 "metadata": {
  "kernelspec": {
   "display_name": "Python 3",
   "language": "python",
   "name": "python3"
  },
  "language_info": {
   "codemirror_mode": {
    "name": "ipython",
    "version": 3
   },
   "file_extension": ".py",
   "mimetype": "text/x-python",
   "name": "python",
   "nbconvert_exporter": "python",
   "pygments_lexer": "ipython3",
   "version": "3.11.1"
  }
 },
 "nbformat": 4,
 "nbformat_minor": 2
}
