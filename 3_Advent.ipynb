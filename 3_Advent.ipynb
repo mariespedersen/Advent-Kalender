{
 "cells": [
  {
   "cell_type": "markdown",
   "metadata": {},
   "source": [
    "# Adventskalender - 3. Advent\n",
    "\n",
    "Velkommen tilbage juleeventyret \"Nissen Mynte og den forsvundet gavepose\"\n",
    "\n",
    "\n",
    "Nissen Mynte har mistet sin julesæk! <br>\n",
    "<img src=\"Billeder\\Picture1.jfif\" alt=\"description\" width=\"300\" height=\"300\"> <br>\n",
    "Mynte er lige kommet ud af den tætte skov, hvor hun med din hjælp fandt den rigtige vej. Nu står hun foran en hyggelig julelandsby, fyldt med små nissehuse, glitrende sne og blinkende julelys. Men noget er galt – landsbyen er helt stille. Ingen nisser er ude at lege eller synge. Midt i landsbyen står en stor, tom plads, hvor en magisk julestjerne plejede at skinne. Uden julestjernen kan nisserne ikke finde vej hjem til deres egne julehuler! <br>\n",
    "<img src=\"Billeder\\Picture8.jpeg\" alt=\"description\" width=\"300\" height=\"300\"><img src=\"Billeder\\Picture9.jpeg\" alt=\"description\" width=\"300\" height=\"300\"> <br>\n",
    "\n",
    "Mynte beslutter sig for at finde den forsvundne julestjernen, og hun opdager, at landsbyen er opdelt i tre områder: tre klynger af julehuse. Hvis hun kan finde ud af, hvilken klynge julestjernen er i, kan hun bringe nisserne tilbage.\n",
    "\n",
    "Men det er ikke så let. Klyngerne i landsbyen er blevet blandet sammen, og det er svært at finde den præcise placering af julestjernen. Hvordan kan hun finde ud af, hvor stjernen er gemt?\n",
    "\n",
    "\n",
    "**Der er ét vigtig ledetråd:** Julestjernen gemmer sig i midten af dén julehuse-klynge, som indeholder landsbyens centrum."
   ]
  },
  {
   "cell_type": "code",
   "execution_count": null,
   "metadata": {},
   "outputs": [],
   "source": [
    "# Start med at indlæse nødvendige pakker og variabler:\n",
    "%run CheatSheet.py"
   ]
  },
  {
   "cell_type": "markdown",
   "metadata": {},
   "source": [
    "Start med at definere alle julehuse"
   ]
  },
  {
   "cell_type": "code",
   "execution_count": null,
   "metadata": {},
   "outputs": [],
   "source": [
    "np.random.seed(32)\n",
    "\n",
    "# Julehuse som er tilfældige punkter\n",
    "x = np.random.uniform(0, 100, size=200)\n",
    "y = np.random.uniform(0, 100, size=200)\n",
    "data = pd.DataFrame({\"x\": x, \"y\": y})\n",
    "\n",
    "# Landsby centrum\n",
    "Landsby_Centrum = np.array([50, 50])"
   ]
  },
  {
   "cell_type": "code",
   "execution_count": null,
   "metadata": {},
   "outputs": [],
   "source": [
    "# Plot husene\n",
    "...\n",
    "plt.scatter(Landsby_Centrum[0], Landsby_Centrum[1], c=\"blue\", s=200, marker=\"H\", label=\"Landsbyens centrum\")\n",
    "plt.legend()\n",
    "plt.show()"
   ]
  },
  {
   "cell_type": "markdown",
   "metadata": {},
   "source": [
    "Det er svært at vide, hvilken klynge midten af landsbyen tilhører. Lad at prøve at cluster dataen. Hvor mange cluster skal du bruge? \n",
    "\n",
    "*Hint: Kig i introen, hvor mange husklynger findes der?*"
   ]
  },
  {
   "cell_type": "code",
   "execution_count": null,
   "metadata": {},
   "outputs": [],
   "source": [
    "from sklearn.cluster import KMeans\n",
    "\n",
    "# Brug KMeans clustering for at finde julestjernen\n",
    "kmeans = ...\n",
    "data[\"Cluster\"] = ..."
   ]
  },
  {
   "cell_type": "code",
   "execution_count": null,
   "metadata": {},
   "outputs": [],
   "source": [
    "# Find centrene på hver klynge klynge \n",
    "cluster_center = ...\n",
    "\n",
    "print(\"Mulige placeringer for julelygten (cluster-centre):\")\n",
    "print(cluster_center)"
   ]
  },
  {
   "cell_type": "markdown",
   "metadata": {},
   "source": [
    "Nissen Mynte ved nu at julestjernen er ét af de tre steder. Men hvor?\n",
    "\n",
    "Ved at visualisere de tre klynger kan vi se, hvilken klynge landsbyscentrum tilhører."
   ]
  },
  {
   "cell_type": "code",
   "execution_count": null,
   "metadata": {},
   "outputs": [],
   "source": [
    "# Plot data og klynger\n",
    "plt.figure(figsize=(10, 8))\n",
    "\n",
    "# plot centrum\n",
    "plt.scatter(Landsby_Centrum[0], Landsby_Centrum[1], c=\"blue\", s=200, marker=\"H\", label=\"Landsbyens centrum\")\n",
    "\n",
    "# plot husene (husk at farve dem efter deres klynge)\n",
    "# ... # c=data[\"Cluster\"], cmap=\"viridis\", alpha=0.6, s=50, label=\"Julehuse\")\n",
    "\n",
    "\n",
    "# plot klynge-centrum\n",
    "# ... #  c=\"red\", s=200, marker=\"*\", label=\"Klynge-center (mulig julestjerner)\")\n",
    "\n",
    "plt.title(\"Landsbyen og den forsvundne julestjerne\")\n",
    "plt.xlabel(\"x-koordinat\")\n",
    "plt.ylabel(\"y-koordinat\")\n",
    "plt.legend()\n",
    "plt.show()"
   ]
  },
  {
   "cell_type": "markdown",
   "metadata": {},
   "source": [
    "Selvom visualisering er rigtig godt, vil Nissen Mynte gerne lige regne efter og tjekke, at hun har fundet den rigtige. Brug `np.linagl.norm` til at udregne den mindste distance fra landsby centrum til klynge-centrum"
   ]
  },
  {
   "cell_type": "code",
   "execution_count": null,
   "metadata": {},
   "outputs": [],
   "source": [
    "# Beregn afstanden fra centrum for hver klynge\n",
    "Afstand = ...\n",
    "\n",
    "# Find den klynge, der er tættest på landsbyens centrum\n",
    "Tættelse_cluster = np.argmin(Afstand)\n",
    "print(f\"Julestjernen befinder sig i klynge {Tættelse_cluster + 1}, som er tættest på centrum.\")\n"
   ]
  },
  {
   "cell_type": "markdown",
   "metadata": {},
   "source": [
    "<img src=\"Billeder\\Picture10.jpeg\" alt=\"description\" width=\"300\" height=\"300\"> <br>\n",
    "Da hun nåede frem til den rigtige klynge, så hun den skinnende julestjerne, som var blevet glemt midt i en lille lysning, omgivet af juletræer og glitrende stjerner. Mynte løb hen til stjernen, løftede den op, og et varmt, gyldent lys fyldte hele landsbyen.\n",
    "\n",
    "\"Julestjernes lys er tilbage!\" råbte Mynte. Med et blink af et øje tændte lysene i alle julehusene sig, og landsbyen blev fyldt med varme og glæde. Alle nisserne jublede, og julefesten kunne endelig begynde. <br>\n",
    "\n",
    "<img src=\"Billeder\\Picture11.jpeg\" alt=\"description\" width=\"300\" height=\"300\">  <br>\n",
    "\n",
    "Tak for hjælpen! Mynte smilede og vinkede til dig og alle, der havde hjulpet hende på hendes rejse. Uden din hjælp ville landsbyen ikke have haft den magiske julelygte. De små nisser i byen fortæller Mynte, at de har set hendes julepose med gaver i nissernes store lager. \n",
    "\n",
    "Følg med i næste uge, når nissen Mynte ankommer til lagret. Når hun mon at finde posen inden juleaften? På gensyn"
   ]
  }
 ],
 "metadata": {
  "kernelspec": {
   "display_name": "Python 3",
   "language": "python",
   "name": "python3"
  },
  "language_info": {
   "codemirror_mode": {
    "name": "ipython",
    "version": 3
   },
   "file_extension": ".py",
   "mimetype": "text/x-python",
   "name": "python",
   "nbconvert_exporter": "python",
   "pygments_lexer": "ipython3",
   "version": "3.11.1"
  }
 },
 "nbformat": 4,
 "nbformat_minor": 2
}
