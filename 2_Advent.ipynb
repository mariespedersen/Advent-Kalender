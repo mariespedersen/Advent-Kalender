{
 "cells": [
  {
   "cell_type": "markdown",
   "metadata": {},
   "source": [
    "# Adventskalender - 2. Advent\n",
    "\n",
    "Velkommen tilbage juleeventyret \"Nissen Mynte og den forsvundet gavepose\"\n",
    "\n",
    "\n",
    "Nissen Mynte har mistet sin julesæk! <br>\n",
    "<img src=\"Billeder\\Picture1.jfif\" alt=\"description\" width=\"300\" height=\"300\"> <br>\n",
    "På hendes rejse fandt hun et mærkeligt kort med nogle koordinater. Dette ledte Mynte til skoven, hvor alle juletræerne findes. Men hun er i tvivl om, hvilken vej hun skal tage. Hvert juletræ er pyntet med julekugler, der har forskellige egenskaber som farve, størrelse og form. <br>\n",
    "<img src=\"Billeder\\Picture4.jpeg\" alt=\"description\" width=\"300\" height=\"300\">  <br>\n",
    "Heldigvis har du fået en liste med træningsdata om, hvilke typer træer der findes på de forskellige veje (venstre, midten eller højre)! Kan du hjælpe Nissen med at bruge træningsdataene til at finde den bedste vej gennem skoven?"
   ]
  },
  {
   "cell_type": "code",
   "execution_count": null,
   "metadata": {},
   "outputs": [],
   "source": [
    "# Start med at indlæse nødvendige pakker og variabler:\n",
    "%run CheatSheet.py"
   ]
  },
  {
   "cell_type": "markdown",
   "metadata": {},
   "source": [
    "Lad os lave vores træningsdata"
   ]
  },
  {
   "cell_type": "code",
   "execution_count": null,
   "metadata": {},
   "outputs": [],
   "source": [
    "n = 10000\n",
    "data = {\n",
    "    \"Farve\": np.random.choice([1,2,3], size=n),     # 1=Rød, 2=Blå, 3=Guld\n",
    "    \"Form\": np.random.choice([1,2], size=n),        # 1=Rund, 2=Dråbeformet\n",
    "    \"Størrelse\": np.random.choice([0, 1], size=n),  # 1=Lile, 2=Stor\n",
    "    \"Mønster\": np.random.choice([1,2,3], size=n)    # 1=Striber, 2=Prikker, 3=Ensfarvet\n",
    "}\n",
    "df = pd.DataFrame(data)\n",
    "df[\"Retning\"] = df.apply(generate_direction, axis=1)"
   ]
  },
  {
   "cell_type": "markdown",
   "metadata": {},
   "source": [
    "Definere hvad er $X$ og $y$?"
   ]
  },
  {
   "cell_type": "code",
   "execution_count": null,
   "metadata": {},
   "outputs": [],
   "source": [
    "X = ...\n",
    "y = ..."
   ]
  },
  {
   "cell_type": "markdown",
   "metadata": {},
   "source": [
    "Vi vil gerne tjekke, hvor god vores model er til klassificere, derfor splitter vi vores data i test/trænning\n",
    "\n",
    "*Hint: `from sklearn.model_selection import train_test_split` er indlæst på forhånd*"
   ]
  },
  {
   "cell_type": "code",
   "execution_count": null,
   "metadata": {},
   "outputs": [],
   "source": [
    "X_train, X_test, y_train, y_test = ..."
   ]
  },
  {
   "cell_type": "markdown",
   "metadata": {},
   "source": [
    "Eftersom dette er et klassifikationsproblem skal vi vælge en model. Du kan f.eks. prøve `DecisionTreeClassifier` eller `LogisticRegression`"
   ]
  },
  {
   "cell_type": "code",
   "execution_count": null,
   "metadata": {},
   "outputs": [],
   "source": [
    "from sklearn.tree import # DecisionTreeClassifier/LogisticRegression osv."
   ]
  },
  {
   "cell_type": "markdown",
   "metadata": {},
   "source": [
    "<img src=\"Billeder\\Picture5.jpeg\" alt=\"description\" width=\"300\" height=\"300\"> <br>"
   ]
  },
  {
   "cell_type": "code",
   "execution_count": null,
   "metadata": {},
   "outputs": [],
   "source": [
    "# Lav model\n",
    "model = ...\n",
    "model.fit(X_train,y_train)"
   ]
  },
  {
   "cell_type": "markdown",
   "metadata": {},
   "source": [
    "Lad os teste hvor god nissens model er:"
   ]
  },
  {
   "cell_type": "code",
   "execution_count": null,
   "metadata": {},
   "outputs": [],
   "source": [
    "# Evaluer modellen\n",
    "y_pred = model.predict(X_test)\n",
    "print(\"\\nModellen er blevet trænet! Her er dens nøjagtighed:\")\n",
    "print(f\"Accuracy: {accuracy_score(y_test, y_pred):.2f}\")\n",
    "print(\"\\nDetaljeret rapport:\")\n",
    "print(classification_report(y_test, y_pred))"
   ]
  },
  {
   "cell_type": "code",
   "execution_count": null,
   "metadata": {},
   "outputs": [],
   "source": [
    "if accuracy_score(y_test, y_pred) > 0.6:\n",
    "    print(\"Du har fået et tilfredsstillende svar!\")"
   ]
  },
  {
   "cell_type": "markdown",
   "metadata": {},
   "source": [
    "Nissen Mynte har fået bekræftet at hendes model er god nok. Hun finder i sin lomme en julekugle (se billede). Brug denne kugle som den sidste oberservation til at forudse, hvilken retning nissen Mynte skal gå for at finde ud af skoven. <br>\n",
    "<img src=\"Billeder\\Picture6.jpeg\" alt=\"description\" width=\"300\" height=\"300\"> <br>\n",
    "Udfyld boksene nedenfor med de rigtige tal. \n",
    "\n",
    "*Hint: Se evt. definitionerne da træningsdata blev lavet*"
   ]
  },
  {
   "cell_type": "code",
   "execution_count": null,
   "metadata": {},
   "outputs": [],
   "source": [
    "#Udfyld med de rigtige nummere\n",
    "Ny_Kugle = pd.DataFrame({\n",
    "    \"Farve\": [], \n",
    "    \"Form\": [], \n",
    "    \"Størrelse\": [],\n",
    "    \"Mønster\": [] \n",
    "})"
   ]
  },
  {
   "cell_type": "code",
   "execution_count": null,
   "metadata": {},
   "outputs": [],
   "source": [
    "prediction = ...\n",
    "\n",
    "direction_map = {1: \"Venstre\", 2: \"Midten\", 3: \"Højre\"}\n",
    "print(f\"Modellen anbefaler at gå mod: {direction_map[prediction[0]]}\")"
   ]
  },
  {
   "cell_type": "markdown",
   "metadata": {},
   "source": [
    "<img src=\"Billeder\\Picture7.jpeg\" alt=\"description\" width=\"300\" height=\"300\"> <br>\n",
    "Det lykkedes nissen Mynte at komme ud af skoven med alle juletræerne. Følg med i næste uge, hvor vi kommer endnu tættere på posen med alle julegaverne."
   ]
  }
 ],
 "metadata": {
  "kernelspec": {
   "display_name": "Python 3",
   "language": "python",
   "name": "python3"
  },
  "language_info": {
   "codemirror_mode": {
    "name": "ipython",
    "version": 3
   },
   "file_extension": ".py",
   "mimetype": "text/x-python",
   "name": "python",
   "nbconvert_exporter": "python",
   "pygments_lexer": "ipython3",
   "version": "3.11.1"
  }
 },
 "nbformat": 4,
 "nbformat_minor": 2
}
