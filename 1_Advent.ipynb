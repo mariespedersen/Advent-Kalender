{
 "cells": [
  {
   "cell_type": "markdown",
   "metadata": {},
   "source": [
    "# Adventskalender - 1. Advent\n",
    "\n",
    "Velkommen til juleeventyret \"Nissen Mynte og den forsvundet gavepose\"\n",
    "\n",
    "\n",
    "Nissen Mynte har mistet sin julesæk! <br>\n",
    "<img src=\"Billeder\\Picture1.jfif\" alt=\"description\" width=\"300\" height=\"300\"> <br>\n",
    "På hendes rejse fandt hun et mærkeligt kort med nogle koordinater. Mynte tror, at koordinaterne kan vise vej til hendes julesæk, men hun har brug for din hjælp til at finde ud af, hvad de betyder. Sammen skal I undersøge koordinatorene og finde frem til det første spor."
   ]
  },
  {
   "cell_type": "code",
   "execution_count": null,
   "metadata": {},
   "outputs": [],
   "source": [
    "# Start med at indlæse nødvendige pakker og variabler:\n",
    "%run CheatSheet.py"
   ]
  },
  {
   "cell_type": "code",
   "execution_count": null,
   "metadata": {},
   "outputs": [],
   "source": [
    "# Hent Myntes koordinator\n",
    "points = Koordinator_funktion(Koordinator, 10)"
   ]
  },
  {
   "cell_type": "markdown",
   "metadata": {},
   "source": [
    "Det er lykkedes os at finde Myntes koordinator $(x,y)$. Nu skal Mynte undersøge dem lidt bedre"
   ]
  },
  {
   "cell_type": "code",
   "execution_count": null,
   "metadata": {},
   "outputs": [],
   "source": [
    "# Hvor mange punkter (Koordinator) findes der?\n",
    "..."
   ]
  },
  {
   "cell_type": "markdown",
   "metadata": {},
   "source": [
    "Lad os prøve at visualisere de pågældende koordinator"
   ]
  },
  {
   "cell_type": "code",
   "execution_count": null,
   "metadata": {},
   "outputs": [],
   "source": [
    "# Plot punkterne i et scatterplot\n",
    "plt.figure(figsize=(6, 6))\n",
    "\n",
    "... # <--- Indsæt kode her\n",
    "\n",
    "# Formatering\n",
    "plt.title(\"Mystiske Koordinator\")\n",
    "plt.axis(\"equal\")\n",
    "plt.xlabel(\"X\")\n",
    "plt.ylabel(\"Y\")\n",
    "plt.show()"
   ]
  },
  {
   "cell_type": "markdown",
   "metadata": {},
   "source": [
    "Hmm det var ikke til den helt store hjælp. Men vent... <br>\n",
    "<img src=\"Billeder\\Picture2.jpeg\" alt=\"description\" width=\"300\" height=\"300\"> <br>\n",
    "Mynte leder i sneen og finder yderligere 1000 koodinatorer. Opdatere variablen `points` med i alt 1010 koordinatorer. Prøv derefter at plot punkterne igen i et scatter plot. <br>\n",
    "*Hint: Bruge følgende argumenter i dit nye plot: color=\"darkgreen\", alpha=0.6* "
   ]
  },
  {
   "cell_type": "code",
   "execution_count": null,
   "metadata": {},
   "outputs": [],
   "source": [
    "# Hent Myntes ny koordinator\n",
    "points = Koordinator_funktion(Koordinator, 1010)"
   ]
  },
  {
   "cell_type": "code",
   "execution_count": null,
   "metadata": {},
   "outputs": [],
   "source": [
    "# Plot punkterne i et scatterplot (benyt argumenterne: color = \"darkgreen\", alpha = 0.6)\n",
    "plt.figure(figsize=(6, 6))\n",
    "\n",
    "... # <--- Indsæt kode her\n",
    "\n",
    "# Formatering\n",
    "plt.title(\"Mystiske Koordinator\")\n",
    "plt.axis(\"equal\")\n",
    "plt.xlabel(\"X\")\n",
    "plt.ylabel(\"Y\")\n",
    "plt.show()"
   ]
  },
  {
   "cell_type": "markdown",
   "metadata": {},
   "source": [
    "Plottet giver os en ide om at nissen Myntes gaver befinder ét af de følgende tre steder: <br>\n",
    "A) Julefabrikken <br>\n",
    "B) Julehjerte-kontoret <br>\n",
    "C) Juletræerne <br>\n",
    "\n",
    "Hvor tror du gaverne er?"
   ]
  },
  {
   "cell_type": "code",
   "execution_count": null,
   "metadata": {},
   "outputs": [],
   "source": [
    "# Angiv dit svar er?\n",
    "Hvor_er_gaverne = # A, B eller C\n",
    "\n",
    "# Check svar\n",
    "if Hvor_er_gaverne == svar_1:\n",
    "    print(\"Korrekt, du er et skridt næmere til at finde nissen Myntes julegaver!\")\n",
    "    image = mpimg.imread(\"Billeder\\Picture3.jfif\")\n",
    "    plt.imshow(image)\n",
    "    plt.axis('off')\n",
    "    plt.show()\n",
    "else:\n",
    "    print(\"Det er desværre ikke korrekt.\")"
   ]
  },
  {
   "cell_type": "markdown",
   "metadata": {},
   "source": [
    "Godt klaret!\n",
    "\n",
    "Du gjorde det! Du ledte Mynte hen til skoven, hvor alle juletræene er. Mynte er nu et skridt tættere på for at finde hendes julegaver. Følg med den 2. advent næste søndag."
   ]
  }
 ],
 "metadata": {
  "kernelspec": {
   "display_name": "Python 3",
   "language": "python",
   "name": "python3"
  },
  "language_info": {
   "codemirror_mode": {
    "name": "ipython",
    "version": 3
   },
   "file_extension": ".py",
   "mimetype": "text/x-python",
   "name": "python",
   "nbconvert_exporter": "python",
   "pygments_lexer": "ipython3",
   "version": "3.11.1"
  }
 },
 "nbformat": 4,
 "nbformat_minor": 2
}
